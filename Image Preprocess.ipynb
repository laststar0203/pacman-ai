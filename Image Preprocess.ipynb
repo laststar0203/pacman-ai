{
 "cells": [
  {
   "cell_type": "code",
   "execution_count": 5,
   "metadata": {},
   "outputs": [
    {
     "name": "stderr",
     "output_type": "stream",
     "text": [
      "D:\\develop\\tools\\anaconda3\\envs\\rl-learn\\lib\\site-packages\\tqdm\\auto.py:22: TqdmWarning: IProgress not found. Please update jupyter and ipywidgets. See https://ipywidgets.readthedocs.io/en/stable/user_install.html\n",
      "  from .autonotebook import tqdm as notebook_tqdm\n"
     ]
    }
   ],
   "source": [
    "import matplotlib.pyplot as plt\n",
    "import numpy as np\n",
    "import pandas as pd\n",
    "\n",
    "from torchvision import transforms"
   ]
  },
  {
   "cell_type": "code",
   "execution_count": 6,
   "metadata": {},
   "outputs": [],
   "source": [
    "situations = []"
   ]
  },
  {
   "cell_type": "code",
   "execution_count": 7,
   "metadata": {},
   "outputs": [],
   "source": [
    "import gym\n",
    "\n",
    "env = gym.make('MsPacman-v0')\n",
    "state = env.reset()\n",
    "\n",
    "for _ in range(10000):\n",
    "    state_prime, reward, done, info = env.step(env.action_space.sample())\n",
    "    \n",
    "    situations.append({\n",
    "        'state': state,\n",
    "        'state_prime': state_prime,\n",
    "        'reward': reward,\n",
    "        'done': done,\n",
    "        'info': info\n",
    "    })\n",
    "    \n",
    "    state = state_prime"
   ]
  },
  {
   "cell_type": "code",
   "execution_count": 8,
   "metadata": {},
   "outputs": [
    {
     "data": {
      "text/plain": [
       "10000"
      ]
     },
     "execution_count": 8,
     "metadata": {},
     "output_type": "execute_result"
    }
   ],
   "source": [
    "len(situations)"
   ]
  },
  {
   "cell_type": "code",
   "execution_count": 9,
   "metadata": {},
   "outputs": [
    {
     "data": {
      "text/plain": [
       "array([[[  0,   0,   0],\n",
       "        [  0,   0,   0],\n",
       "        [  0,   0,   0],\n",
       "        ...,\n",
       "        [  0,   0,   0],\n",
       "        [  0,   0,   0],\n",
       "        [  0,   0,   0]],\n",
       "\n",
       "       [[228, 111, 111],\n",
       "        [228, 111, 111],\n",
       "        [228, 111, 111],\n",
       "        ...,\n",
       "        [228, 111, 111],\n",
       "        [228, 111, 111],\n",
       "        [228, 111, 111]],\n",
       "\n",
       "       [[228, 111, 111],\n",
       "        [228, 111, 111],\n",
       "        [228, 111, 111],\n",
       "        ...,\n",
       "        [228, 111, 111],\n",
       "        [228, 111, 111],\n",
       "        [228, 111, 111]],\n",
       "\n",
       "       ...,\n",
       "\n",
       "       [[  0,   0,   0],\n",
       "        [  0,   0,   0],\n",
       "        [  0,   0,   0],\n",
       "        ...,\n",
       "        [  0,   0,   0],\n",
       "        [  0,   0,   0],\n",
       "        [  0,   0,   0]],\n",
       "\n",
       "       [[  0,   0,   0],\n",
       "        [  0,   0,   0],\n",
       "        [  0,   0,   0],\n",
       "        ...,\n",
       "        [  0,   0,   0],\n",
       "        [  0,   0,   0],\n",
       "        [  0,   0,   0]],\n",
       "\n",
       "       [[  0,   0,   0],\n",
       "        [  0,   0,   0],\n",
       "        [  0,   0,   0],\n",
       "        ...,\n",
       "        [  0,   0,   0],\n",
       "        [  0,   0,   0],\n",
       "        [  0,   0,   0]]], dtype=uint8)"
      ]
     },
     "execution_count": 9,
     "metadata": {},
     "output_type": "execute_result"
    }
   ],
   "source": [
    "situations[0]['state']"
   ]
  },
  {
   "cell_type": "code",
   "execution_count": 10,
   "metadata": {},
   "outputs": [
    {
     "data": {
      "image/png": "[encoded data removed]",
      "text/plain": [
       "<PIL.Image.Image image mode=RGB size=159x171>"
      ]
     },
     "execution_count": 10,
     "metadata": {},
     "output_type": "execute_result"
    }
   ],
   "source": [
    "origin_rgb = situations[300]['state'][1:172, 1:160]\n",
    "photo = transforms.ToPILImage()(origin_rgb)\n",
    "\n",
    "photo"
   ]
  },
  {
   "cell_type": "code",
   "execution_count": 11,
   "metadata": {},
   "outputs": [
    {
     "data": {
      "text/plain": [
       "PIL.Image.Image"
      ]
     },
     "execution_count": 11,
     "metadata": {},
     "output_type": "execute_result"
    }
   ],
   "source": [
    "type(photo)"
   ]
  },
  {
   "cell_type": "markdown",
   "metadata": {},
   "source": [
    "이미지를 171 X 159 X 3 에서 227 X 227 X 3 으로 변경해주어야 함"
   ]
  },
  {
   "cell_type": "code",
   "execution_count": 12,
   "metadata": {},
   "outputs": [
    {
     "data": {
      "image/png": "[encoded data removed]",
      "text/plain": [
       "<PIL.Image.Image image mode=RGB size=84x84>"
      ]
     },
     "execution_count": 12,
     "metadata": {},
     "output_type": "execute_result"
    }
   ],
   "source": [
    "img_transform = transforms.Compose([\n",
    "    transforms.Resize((84, 84))\n",
    "])\n",
    "\n",
    "after_photo = img_transform(photo)\n",
    "after_photo"
   ]
  },
  {
   "cell_type": "code",
   "execution_count": 13,
   "metadata": {},
   "outputs": [
    {
     "name": "stdout",
     "output_type": "stream",
     "text": [
      "torch.Size([3, 84, 84])\n"
     ]
    },
    {
     "data": {
      "text/plain": [
       "tensor([[[0.8941, 0.6824, 0.3725,  ..., 0.4706, 0.8588, 0.8941],\n",
       "         [0.8941, 0.5294, 0.0000,  ..., 0.1647, 0.8353, 0.8941],\n",
       "         [0.8941, 0.5294, 0.0000,  ..., 0.1647, 0.8353, 0.8941],\n",
       "         ...,\n",
       "         [0.8941, 0.5294, 0.0000,  ..., 0.1647, 0.8353, 0.8941],\n",
       "         [0.8941, 0.5725, 0.1059,  ..., 0.2510, 0.8431, 0.8941],\n",
       "         [0.8941, 0.8392, 0.7569,  ..., 0.7843, 0.8863, 0.8941]],\n",
       "\n",
       "        [[0.4353, 0.3569, 0.2471,  ..., 0.2784, 0.4235, 0.4353],\n",
       "         [0.4353, 0.3020, 0.1098,  ..., 0.1686, 0.4157, 0.4353],\n",
       "         [0.4353, 0.3020, 0.1098,  ..., 0.1686, 0.4157, 0.4353],\n",
       "         ...,\n",
       "         [0.4353, 0.3020, 0.1098,  ..., 0.1686, 0.4157, 0.4353],\n",
       "         [0.4353, 0.3176, 0.1490,  ..., 0.2000, 0.4196, 0.4353],\n",
       "         [0.4353, 0.4157, 0.3843,  ..., 0.3961, 0.4314, 0.4353]],\n",
       "\n",
       "        [[0.4353, 0.4588, 0.4941,  ..., 0.4824, 0.4392, 0.4353],\n",
       "         [0.4353, 0.4745, 0.5333,  ..., 0.5137, 0.4431, 0.4353],\n",
       "         [0.4353, 0.4745, 0.5333,  ..., 0.5137, 0.4431, 0.4353],\n",
       "         ...,\n",
       "         [0.4353, 0.4745, 0.5333,  ..., 0.5137, 0.4431, 0.4353],\n",
       "         [0.4353, 0.4706, 0.5216,  ..., 0.5059, 0.4431, 0.4353],\n",
       "         [0.4353, 0.4431, 0.4510,  ..., 0.4471, 0.4353, 0.4353]]])"
      ]
     },
     "execution_count": 13,
     "metadata": {},
     "output_type": "execute_result"
    }
   ],
   "source": [
    "new_rgb = transforms.ToTensor()(after_photo)\n",
    "print(new_rgb.shape)\n",
    "new_rgb"
   ]
  },
  {
   "cell_type": "code",
   "execution_count": null,
   "metadata": {},
   "outputs": [],
   "source": []
  },
  {
   "cell_type": "code",
   "execution_count": null,
   "metadata": {},
   "outputs": [],
   "source": []
  }
 ],
 "metadata": {
  "kernelspec": {
   "display_name": "rl-learn",
   "language": "python",
   "name": "rl-learn"
  },
  "language_info": {
   "codemirror_mode": {
    "name": "ipython",
    "version": 3
   },
   "file_extension": ".py",
   "mimetype": "text/x-python",
   "name": "python",
   "nbconvert_exporter": "python",
   "pygments_lexer": "ipython3",
   "version": "3.7.13"
  }
 },
 "nbformat": 4,
 "nbformat_minor": 5
}
