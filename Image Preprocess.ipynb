{
 "cells": [
  {
   "cell_type": "code",
   "execution_count": 23,
   "id": "563f3c39",
   "metadata": {},
   "outputs": [],
   "source": [
    "import matplotlib.pyplot as plt\n",
    "import numpy as np\n",
    "import pandas as pd\n",
    "\n",
    "from torchvision import transforms"
   ]
  },
  {
   "cell_type": "code",
   "execution_count": 2,
   "id": "adae2796",
   "metadata": {},
   "outputs": [],
   "source": [
    "situations = []"
   ]
  },
  {
   "cell_type": "code",
   "execution_count": 10,
   "id": "3a2d8270",
   "metadata": {},
   "outputs": [
    {
     "ename": "SyntaxError",
     "evalue": "name 'state' is used prior to global declaration (3275567394.py, line 20)",
     "output_type": "error",
     "traceback": [
      "\u001b[1;36m  File \u001b[1;32m\"C:\\Users\\sinny\\AppData\\Local\\Temp\\ipykernel_24744\\3275567394.py\"\u001b[1;36m, line \u001b[1;32m20\u001b[0m\n\u001b[1;31mSyntaxError\u001b[0m\u001b[1;31m:\u001b[0m name 'state' is used prior to global declaration\n"
     ]
    }
   ],
   "source": [
    "import gym\n",
    "\n",
    "env = gym.make('MsPacman-v0')\n",
    "state = env.reset()\n",
    "\n",
    "for _ in range(10000):\n",
    "    state_prime, reward, done, info = env.step(env.action_space.sample())\n",
    "    \n",
    "    situations.append({\n",
    "        'state': state,\n",
    "        'state_prime': state_prime,\n",
    "        'reward': reward,\n",
    "        'done': done,\n",
    "        'info': info\n",
    "    })\n",
    "    \n",
    "    state = state_prime"
   ]
  },
  {
   "cell_type": "code",
   "execution_count": 11,
   "id": "f16ef8c3",
   "metadata": {},
   "outputs": [
    {
     "data": {
      "text/plain": [
       "10000"
      ]
     },
     "execution_count": 11,
     "metadata": {},
     "output_type": "execute_result"
    }
   ],
   "source": [
    "len(situations)"
   ]
  },
  {
   "cell_type": "code",
   "execution_count": 12,
   "id": "50196143",
   "metadata": {},
   "outputs": [
    {
     "data": {
      "text/plain": [
       "array([[[  0,   0,   0],\n",
       "        [  0,   0,   0],\n",
       "        [  0,   0,   0],\n",
       "        ...,\n",
       "        [  0,   0,   0],\n",
       "        [  0,   0,   0],\n",
       "        [  0,   0,   0]],\n",
       "\n",
       "       [[228, 111, 111],\n",
       "        [228, 111, 111],\n",
       "        [228, 111, 111],\n",
       "        ...,\n",
       "        [228, 111, 111],\n",
       "        [228, 111, 111],\n",
       "        [228, 111, 111]],\n",
       "\n",
       "       [[228, 111, 111],\n",
       "        [228, 111, 111],\n",
       "        [228, 111, 111],\n",
       "        ...,\n",
       "        [228, 111, 111],\n",
       "        [228, 111, 111],\n",
       "        [228, 111, 111]],\n",
       "\n",
       "       ...,\n",
       "\n",
       "       [[  0,   0,   0],\n",
       "        [  0,   0,   0],\n",
       "        [  0,   0,   0],\n",
       "        ...,\n",
       "        [  0,   0,   0],\n",
       "        [  0,   0,   0],\n",
       "        [  0,   0,   0]],\n",
       "\n",
       "       [[  0,   0,   0],\n",
       "        [  0,   0,   0],\n",
       "        [  0,   0,   0],\n",
       "        ...,\n",
       "        [  0,   0,   0],\n",
       "        [  0,   0,   0],\n",
       "        [  0,   0,   0]],\n",
       "\n",
       "       [[  0,   0,   0],\n",
       "        [  0,   0,   0],\n",
       "        [  0,   0,   0],\n",
       "        ...,\n",
       "        [  0,   0,   0],\n",
       "        [  0,   0,   0],\n",
       "        [  0,   0,   0]]], dtype=uint8)"
      ]
     },
     "execution_count": 12,
     "metadata": {},
     "output_type": "execute_result"
    }
   ],
   "source": [
    "situations[0]['state']"
   ]
  },
  {
   "cell_type": "code",
   "execution_count": 37,
   "id": "b7e36436",
   "metadata": {},
   "outputs": [
    {
     "data": {
      "image/png": "[encoded data removed]",
      "text/plain": [
       "<PIL.Image.Image image mode=RGB size=159x171>"
      ]
     },
     "execution_count": 37,
     "metadata": {},
     "output_type": "execute_result"
    }
   ],
   "source": [
    "origin_rgb = situations[300]['state'][1:172, 1:160]\n",
    "photo = transforms.ToPILImage()(origin_rgb)\n",
    "\n",
    "photo"
   ]
  },
  {
   "cell_type": "code",
   "execution_count": 35,
   "id": "53ee2813",
   "metadata": {},
   "outputs": [
    {
     "data": {
      "text/plain": [
       "PIL.Image.Image"
      ]
     },
     "execution_count": 35,
     "metadata": {},
     "output_type": "execute_result"
    }
   ],
   "source": [
    "type(photo)"
   ]
  },
  {
   "cell_type": "markdown",
   "id": "67e486c0",
   "metadata": {},
   "source": [
    "이미지를 171 X 159 X 3 에서 227 X 227 X 3 으로 변경해주어야 함"
   ]
  },
  {
   "cell_type": "code",
   "execution_count": 45,
   "id": "89709cf7",
   "metadata": {},
   "outputs": [
    {
     "data": {
      "image/png": "[encoded data removed]",
      "text/plain": [
       "<PIL.Image.Image image mode=RGB size=227x227>"
      ]
     },
     "execution_count": 45,
     "metadata": {},
     "output_type": "execute_result"
    }
   ],
   "source": [
    "img_transform = transforms.Compose([\n",
    "    transforms.Resize((227, 227))\n",
    "])\n",
    "\n",
    "after_photo = img_transform(photo)\n",
    "after_photo"
   ]
  },
  {
   "cell_type": "code",
   "execution_count": 42,
   "id": "d5afa49f",
   "metadata": {},
   "outputs": [
    {
     "name": "stdout",
     "output_type": "stream",
     "text": [
      "torch.Size([3, 227, 227])\n"
     ]
    },
    {
     "data": {
      "text/plain": [
       "tensor([[[0.8941, 0.8941, 0.8941,  ..., 0.8941, 0.8941, 0.8941],\n",
       "         [0.8941, 0.8941, 0.8941,  ..., 0.8941, 0.8941, 0.8941],\n",
       "         [0.8941, 0.8941, 0.8941,  ..., 0.8941, 0.8941, 0.8941],\n",
       "         ...,\n",
       "         [0.8941, 0.8941, 0.8941,  ..., 0.8941, 0.8941, 0.8941],\n",
       "         [0.8941, 0.8941, 0.8941,  ..., 0.8941, 0.8941, 0.8941],\n",
       "         [0.8941, 0.8941, 0.8941,  ..., 0.8941, 0.8941, 0.8941]],\n",
       "\n",
       "        [[0.4353, 0.4353, 0.4353,  ..., 0.4353, 0.4353, 0.4353],\n",
       "         [0.4353, 0.4353, 0.4353,  ..., 0.4353, 0.4353, 0.4353],\n",
       "         [0.4353, 0.4353, 0.4353,  ..., 0.4353, 0.4353, 0.4353],\n",
       "         ...,\n",
       "         [0.4353, 0.4353, 0.4353,  ..., 0.4353, 0.4353, 0.4353],\n",
       "         [0.4353, 0.4353, 0.4353,  ..., 0.4353, 0.4353, 0.4353],\n",
       "         [0.4353, 0.4353, 0.4353,  ..., 0.4353, 0.4353, 0.4353]],\n",
       "\n",
       "        [[0.4353, 0.4353, 0.4353,  ..., 0.4353, 0.4353, 0.4353],\n",
       "         [0.4353, 0.4353, 0.4353,  ..., 0.4353, 0.4353, 0.4353],\n",
       "         [0.4353, 0.4353, 0.4353,  ..., 0.4353, 0.4353, 0.4353],\n",
       "         ...,\n",
       "         [0.4353, 0.4353, 0.4353,  ..., 0.4353, 0.4353, 0.4353],\n",
       "         [0.4353, 0.4353, 0.4353,  ..., 0.4353, 0.4353, 0.4353],\n",
       "         [0.4353, 0.4353, 0.4353,  ..., 0.4353, 0.4353, 0.4353]]])"
      ]
     },
     "execution_count": 42,
     "metadata": {},
     "output_type": "execute_result"
    }
   ],
   "source": [
    "new_rgb = transforms.ToTensor()(after_photo)\n",
    "print(new_rgb.shape)\n",
    "new_rgb"
   ]
  },
  {
   "cell_type": "code",
   "execution_count": null,
   "id": "f76eae38",
   "metadata": {},
   "outputs": [],
   "source": []
  }
 ],
 "metadata": {
  "kernelspec": {
   "display_name": "rl-learn",
   "language": "python",
   "name": "rl-learn"
  },
  "language_info": {
   "codemirror_mode": {
    "name": "ipython",
    "version": 3
   },
   "file_extension": ".py",
   "mimetype": "text/x-python",
   "name": "python",
   "nbconvert_exporter": "python",
   "pygments_lexer": "ipython3",
   "version": "3.7.13"
  }
 },
 "nbformat": 4,
 "nbformat_minor": 5
}
