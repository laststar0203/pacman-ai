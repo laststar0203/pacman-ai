{
 "cells": [
  {
   "cell_type": "code",
   "execution_count": 1,
   "metadata": {},
   "outputs": [
    {
     "name": "stderr",
     "output_type": "stream",
     "text": [
      "D:\\develop\\tools\\anaconda3\\envs\\rl-learn\\lib\\site-packages\\numpy\\_distributor_init.py:32: UserWarning: loaded more than 1 DLL from .libs:\n",
      "D:\\develop\\tools\\anaconda3\\envs\\rl-learn\\lib\\site-packages\\numpy\\.libs\\libopenblas.PYQHXLVVQ7VESDPUVUADXEVJOBGHJPAY.gfortran-win_amd64.dll\n",
      "D:\\develop\\tools\\anaconda3\\envs\\rl-learn\\lib\\site-packages\\numpy\\.libs\\libopenblas.XWYDX2IKJW2NMTWSFYNGFUWKQU3LYTCZ.gfortran-win_amd64.dll\n",
      "  stacklevel=1)\n"
     ]
    },
    {
     "ename": "OSError",
     "evalue": "[WinError 1455] 이 작업을 완료하기 위한 페이징 파일이 너무 작습니다. Error loading \"D:\\develop\\tools\\anaconda3\\envs\\rl-learn\\lib\\site-packages\\torch\\lib\\cudnn_adv_train64_8.dll\" or one of its dependencies.",
     "output_type": "error",
     "traceback": [
      "\u001b[1;31m---------------------------------------------------------------------------\u001b[0m",
      "\u001b[1;31mOSError\u001b[0m                                   Traceback (most recent call last)",
      "\u001b[1;32m~\\AppData\\Local\\Temp\\ipykernel_16308\\1650215986.py\u001b[0m in \u001b[0;36m<module>\u001b[1;34m\u001b[0m\n\u001b[0;32m      1\u001b[0m \u001b[1;32mimport\u001b[0m \u001b[0mgym\u001b[0m\u001b[1;33m\u001b[0m\u001b[1;33m\u001b[0m\u001b[0m\n\u001b[1;32m----> 2\u001b[1;33m \u001b[1;32mimport\u001b[0m \u001b[0mtorch\u001b[0m\u001b[1;33m\u001b[0m\u001b[1;33m\u001b[0m\u001b[0m\n\u001b[0m\u001b[0;32m      3\u001b[0m \u001b[1;32mimport\u001b[0m \u001b[0mtorch\u001b[0m\u001b[1;33m.\u001b[0m\u001b[0mnn\u001b[0m \u001b[1;32mas\u001b[0m \u001b[0mnn\u001b[0m\u001b[1;33m\u001b[0m\u001b[1;33m\u001b[0m\u001b[0m\n\u001b[0;32m      4\u001b[0m \u001b[1;32mimport\u001b[0m \u001b[0mtorch\u001b[0m\u001b[1;33m.\u001b[0m\u001b[0mnn\u001b[0m\u001b[1;33m.\u001b[0m\u001b[0mfunctional\u001b[0m \u001b[1;32mas\u001b[0m \u001b[0mF\u001b[0m\u001b[1;33m\u001b[0m\u001b[1;33m\u001b[0m\u001b[0m\n\u001b[0;32m      5\u001b[0m \u001b[1;32mimport\u001b[0m \u001b[0mtorch\u001b[0m\u001b[1;33m.\u001b[0m\u001b[0moptim\u001b[0m \u001b[1;32mas\u001b[0m \u001b[0moptim\u001b[0m\u001b[1;33m\u001b[0m\u001b[1;33m\u001b[0m\u001b[0m\n",
      "\u001b[1;32mD:\\develop\\tools\\anaconda3\\envs\\rl-learn\\lib\\site-packages\\torch\\__init__.py\u001b[0m in \u001b[0;36m<module>\u001b[1;34m\u001b[0m\n\u001b[0;32m    124\u001b[0m                 \u001b[0merr\u001b[0m \u001b[1;33m=\u001b[0m \u001b[0mctypes\u001b[0m\u001b[1;33m.\u001b[0m\u001b[0mWinError\u001b[0m\u001b[1;33m(\u001b[0m\u001b[0mlast_error\u001b[0m\u001b[1;33m)\u001b[0m\u001b[1;33m\u001b[0m\u001b[1;33m\u001b[0m\u001b[0m\n\u001b[0;32m    125\u001b[0m                 \u001b[0merr\u001b[0m\u001b[1;33m.\u001b[0m\u001b[0mstrerror\u001b[0m \u001b[1;33m+=\u001b[0m \u001b[1;34mf' Error loading \"{dll}\" or one of its dependencies.'\u001b[0m\u001b[1;33m\u001b[0m\u001b[1;33m\u001b[0m\u001b[0m\n\u001b[1;32m--> 126\u001b[1;33m                 \u001b[1;32mraise\u001b[0m \u001b[0merr\u001b[0m\u001b[1;33m\u001b[0m\u001b[1;33m\u001b[0m\u001b[0m\n\u001b[0m\u001b[0;32m    127\u001b[0m             \u001b[1;32melif\u001b[0m \u001b[0mres\u001b[0m \u001b[1;32mis\u001b[0m \u001b[1;32mnot\u001b[0m \u001b[1;32mNone\u001b[0m\u001b[1;33m:\u001b[0m\u001b[1;33m\u001b[0m\u001b[1;33m\u001b[0m\u001b[0m\n\u001b[0;32m    128\u001b[0m                 \u001b[0mis_loaded\u001b[0m \u001b[1;33m=\u001b[0m \u001b[1;32mTrue\u001b[0m\u001b[1;33m\u001b[0m\u001b[1;33m\u001b[0m\u001b[0m\n",
      "\u001b[1;31mOSError\u001b[0m: [WinError 1455] 이 작업을 완료하기 위한 페이징 파일이 너무 작습니다. Error loading \"D:\\develop\\tools\\anaconda3\\envs\\rl-learn\\lib\\site-packages\\torch\\lib\\cudnn_adv_train64_8.dll\" or one of its dependencies."
     ]
    }
   ],
   "source": [
    "import gym\n",
    "import torch\n",
    "import torch.nn as nn\n",
    "import torch.nn.functional as F\n",
    "import torch.optim as optim\n",
    "\n",
    "from torchvision import transforms"
   ]
  },
  {
   "cell_type": "code",
   "execution_count": null,
   "metadata": {},
   "outputs": [],
   "source": [
    "import pandas as pd"
   ]
  },
  {
   "cell_type": "code",
   "execution_count": null,
   "metadata": {},
   "outputs": [],
   "source": [
    "pd.options.display.max_columns=500\n",
    "pd.options.display.max_colwidth = None\n",
    "pd.options.display.max_rows = None"
   ]
  },
  {
   "cell_type": "code",
   "execution_count": null,
   "metadata": {},
   "outputs": [],
   "source": [
    "import matplotlib.pyplot as plt"
   ]
  },
  {
   "cell_type": "code",
   "execution_count": null,
   "metadata": {},
   "outputs": [],
   "source": [
    "def show_rgb_image(tensor_state):\n",
    "    plt.imshow(tensor_state.cpu().detach().numpy().transpose(1, 2, 0))\n",
    "    \n",
    "def show_bw_image(tensor_state):\n",
    "    plt.imshow(tensor_state.cpu().detach().numpy())\n",
    "    \n",
    "    \n",
    "def kernel_show(length, kernel_list, row=5):\n",
    "    fig, axes = plt.subplots(int(length / row) + 1, row, figsize=(15,10))\n",
    "    axes = axes.flatten()\n",
    "    for i in range(length):\n",
    "        axes[i].imshow(kernel_list[i].cpu().detach())\n",
    "        \n",
    "def list_show(l, st, end):\n",
    "    fig, axes = plt.subplots(1, end - st + 1, figsize=(15,10))\n",
    "    axes = axes.flatten()\n",
    "    for i in range(end - st + 1):\n",
    "        axes[i].imshow(l[i].cpu().detach().numpy().transpose(1, 2, 0))"
   ]
  },
  {
   "cell_type": "code",
   "execution_count": null,
   "metadata": {},
   "outputs": [],
   "source": [
    "class Environment(gym.Wrapper):\n",
    "    move = -1\n",
    "    eat_cookie = 100\n",
    "    eat_ghost = 0\n",
    "    death = -1000\n",
    "\n",
    "    def __init__(self):\n",
    "        super(Environment, self).__init__(gym.make('MsPacman-v0'))\n",
    "\n",
    "        self._move_reward = Environment.move\n",
    "        self._eat_cookie_reward = Environment.eat_cookie\n",
    "        self._death_reward = Environment.death\n",
    "        self._eat_ghost_reward = Environment.eat_ghost\n",
    "\n",
    "    def reset(self,\n",
    "              move_reward: int = move,\n",
    "              eat_cookie_reward: int = eat_cookie,\n",
    "              death_reward: int = death,\n",
    "              eat_ghost_reward: int = eat_ghost,\n",
    "              **kwargs):\n",
    "\n",
    "        self._move_reward = move_reward\n",
    "        self._eat_cookie_reward = eat_cookie_reward\n",
    "        self._death_reward = death_reward\n",
    "        self._eat_ghost_reward = eat_ghost_reward\n",
    "\n",
    "        self._metadata = {\n",
    "            'lives': 3,\n",
    "            'get_coin': 0\n",
    "        }\n",
    "\n",
    "        state = super(Environment, self).reset(**kwargs)\n",
    "        return self.observation(state)\n",
    "\n",
    "    def step(self, action):\n",
    "\n",
    "        state_prime, reward, done, info = super(Environment, self).step(action)\n",
    "\n",
    "        state_prime = self.observation(state_prime)\n",
    "        new_reward = self.reward(reward, info)\n",
    "\n",
    "        self._metadata['lives'] = info['lives']\n",
    "                \n",
    "        return state_prime, new_reward, done, info\n",
    "\n",
    "    def reward(self, reward, info):\n",
    "\n",
    "        new_reward = 0\n",
    "\n",
    "        # move\n",
    "        if reward == 0:\n",
    "            new_reward = self._move_reward\n",
    "        # eat\n",
    "        elif reward == 10:\n",
    "            new_reward = self._eat_cookie_reward\n",
    "            self._metadata['get_coin'] += 1\n",
    "        elif reward == 200:\n",
    "            new_reward = self._eat_ghost_reward\n",
    "\n",
    "        if self._metadata['lives'] > info['lives'] != 3:\n",
    "            new_reward += self._death_reward * (1 - (self._metadata['get_coin'] % 150) / 150)\n",
    "            self._metadata['get_coin'] = 0 # 한 목숨당 처리하도록? 처음에 많이 먹고 나중에 ㅈㄴ 놀수 있으니깐..?\n",
    "\n",
    "        return new_reward\n",
    "\n",
    "    def observation(self, observation):\n",
    "        transform = transforms.Compose([\n",
    "            transforms.ToPILImage(),\n",
    "            transforms.Grayscale(num_output_channels=1),\n",
    "            transforms.Resize((110, 84)),\n",
    "            transforms.ToTensor()\n",
    "        ])\n",
    "        \n",
    "\n",
    "        return transform(observation)[:84, :84]\n",
    "\n"
   ]
  },
  {
   "cell_type": "code",
   "execution_count": null,
   "metadata": {},
   "outputs": [],
   "source": [
    "import gym\n",
    "\n",
    "env = Environment()\n",
    "\n",
    "state = env.reset()\n",
    "\n",
    "result = []\n",
    "\n",
    "for _ in range(10000):\n",
    "    state_prime, reward, done, info = env.step(env.action_space.sample())\n",
    "    \n",
    "    result.append({\n",
    "        'state': state,\n",
    "        'state_prime': state_prime,\n",
    "        'reward': reward,\n",
    "        'done': done,\n",
    "        'info': info\n",
    "    })\n",
    "    \n",
    "    if done:\n",
    "        break\n",
    "    \n",
    "    state = state_prime\n"
   ]
  },
  {
   "cell_type": "code",
   "execution_count": null,
   "metadata": {},
   "outputs": [],
   "source": [
    "len(result)"
   ]
  },
  {
   "cell_type": "code",
   "execution_count": null,
   "metadata": {},
   "outputs": [],
   "source": [
    "test_state = result[450]['state']"
   ]
  },
  {
   "cell_type": "code",
   "execution_count": null,
   "metadata": {},
   "outputs": [],
   "source": [
    "test_state.shape"
   ]
  },
  {
   "cell_type": "code",
   "execution_count": null,
   "metadata": {},
   "outputs": [],
   "source": [
    "test_state[0]"
   ]
  },
  {
   "cell_type": "code",
   "execution_count": null,
   "metadata": {},
   "outputs": [],
   "source": [
    "show_rgb_image(test_state)"
   ]
  },
  {
   "cell_type": "code",
   "execution_count": null,
   "metadata": {},
   "outputs": [],
   "source": [
    "test_state = torch.cat([result[450]['state'], result[451]['state'], result[452]['state']])"
   ]
  },
  {
   "cell_type": "code",
   "execution_count": null,
   "metadata": {},
   "outputs": [],
   "source": [
    "rgb_state = test_state.unsqueeze(0)"
   ]
  },
  {
   "cell_type": "code",
   "execution_count": null,
   "metadata": {},
   "outputs": [],
   "source": [
    "rgb_state.shape"
   ]
  },
  {
   "cell_type": "code",
   "execution_count": null,
   "metadata": {},
   "outputs": [],
   "source": [
    "rgb_state[0]"
   ]
  },
  {
   "cell_type": "markdown",
   "metadata": {},
   "source": [
    "### Layer1"
   ]
  },
  {
   "cell_type": "code",
   "execution_count": null,
   "metadata": {},
   "outputs": [],
   "source": [
    "test_layer1 = nn.Sequential(\n",
    "    nn.Conv2d(\n",
    "        in_channels=3,\n",
    "        out_channels=16,\n",
    "        kernel_size=2,\n",
    "        device='cpu'),\n",
    "    nn.BatchNorm2d(16, device='cpu'),\n",
    "    nn.ReLU(),\n",
    "    nn.MaxPool2d(kernel_size=2)\n",
    ")"
   ]
  },
  {
   "cell_type": "code",
   "execution_count": null,
   "metadata": {},
   "outputs": [],
   "source": [
    "layer1_result = test_layer1(rgb_state)\n",
    "layer1_result.shape"
   ]
  },
  {
   "cell_type": "code",
   "execution_count": null,
   "metadata": {},
   "outputs": [],
   "source": [
    "show_rgb_image(test_state)"
   ]
  },
  {
   "cell_type": "code",
   "execution_count": null,
   "metadata": {},
   "outputs": [],
   "source": [
    "len(layer1_result.view(-1))"
   ]
  },
  {
   "cell_type": "code",
   "execution_count": null,
   "metadata": {},
   "outputs": [],
   "source": [
    "kernel_show(kernel_list=layer1_result[0], length=len(layer1_result[0]), row=5)"
   ]
  },
  {
   "cell_type": "markdown",
   "metadata": {},
   "source": [
    "### Layer2"
   ]
  },
  {
   "cell_type": "code",
   "execution_count": null,
   "metadata": {},
   "outputs": [],
   "source": [
    "test_layer2 = nn.Sequential(\n",
    "    nn.Conv2d(\n",
    "        in_channels=3,\n",
    "        out_channels=16,\n",
    "        kernel_size=2,\n",
    "        stride=2,\n",
    "        device='cpu'),\n",
    "    nn.BatchNorm2d(16, device='cpu'),\n",
    "    nn.ReLU(),\n",
    "    nn.Conv2d(in_channels=16,\n",
    "        out_channels=32,\n",
    "        kernel_size=2,\n",
    "        device='cpu'),\n",
    "    nn.BatchNorm2d(32, device='cpu'),\n",
    "    nn.ReLU(),\n",
    "    nn.MaxPool2d(kernel_size=2)\n",
    ")"
   ]
  },
  {
   "cell_type": "code",
   "execution_count": null,
   "metadata": {},
   "outputs": [],
   "source": [
    "show_rgb_image(test_state)"
   ]
  },
  {
   "cell_type": "code",
   "execution_count": null,
   "metadata": {},
   "outputs": [],
   "source": [
    "test_state.shape"
   ]
  },
  {
   "cell_type": "code",
   "execution_count": null,
   "metadata": {},
   "outputs": [],
   "source": [
    "layer2_result = test_layer2(rgb_state)\n",
    "layer2_result.shape"
   ]
  },
  {
   "cell_type": "code",
   "execution_count": null,
   "metadata": {},
   "outputs": [],
   "source": [
    "len(layer2_result.view(-1))"
   ]
  },
  {
   "cell_type": "code",
   "execution_count": null,
   "metadata": {},
   "outputs": [],
   "source": [
    "kernel_show(kernel_list=layer2_result[0], length=len(layer2_result[0]), row=6)"
   ]
  },
  {
   "cell_type": "markdown",
   "metadata": {},
   "source": [
    "### Custom Layer"
   ]
  },
  {
   "cell_type": "code",
   "execution_count": null,
   "metadata": {},
   "outputs": [],
   "source": [
    "test_layer3 = nn.Sequential(\n",
    "    nn.Conv2d(\n",
    "        in_channels=3,\n",
    "        out_channels=16,\n",
    "        kernel_size=2,\n",
    "        device='cpu'),\n",
    "    nn.BatchNorm2d(16, device='cpu'),\n",
    "    nn.ReLU(),\n",
    "    nn.MaxPool2d(kernel_size=2),\n",
    "    nn.Conv2d(in_channels=16,\n",
    "        out_channels=32,\n",
    "        kernel_size=2,\n",
    "        device='cpu'),\n",
    "    nn.BatchNorm2d(32, device='cpu'),\n",
    "    nn.ReLU(),\n",
    "    nn.MaxPool2d(kernel_size=2),\n",
    "    nn.Conv2d(in_channels=32,\n",
    "        out_channels=64,\n",
    "        kernel_size=2,\n",
    "        device='cpu'),\n",
    "    nn.BatchNorm2d(64, device='cpu'),\n",
    "    nn.ReLU(),\n",
    "    nn.MaxPool2d(kernel_size=3),\n",
    ")"
   ]
  },
  {
   "cell_type": "code",
   "execution_count": null,
   "metadata": {},
   "outputs": [],
   "source": [
    "layer3_result = test_layer3(rgb_state)\n",
    "layer3_result.shape"
   ]
  },
  {
   "cell_type": "code",
   "execution_count": null,
   "metadata": {},
   "outputs": [],
   "source": [
    "show_rgb_image(test_state)"
   ]
  },
  {
   "cell_type": "code",
   "execution_count": null,
   "metadata": {},
   "outputs": [],
   "source": [
    "len(layer3_result.view(-1))"
   ]
  },
  {
   "cell_type": "code",
   "execution_count": null,
   "metadata": {},
   "outputs": [],
   "source": [
    "kernel_show(kernel_list=layer3_result[0], length=len(layer3_result[0]), row=10)"
   ]
  },
  {
   "cell_type": "code",
   "execution_count": null,
   "metadata": {},
   "outputs": [],
   "source": []
  },
  {
   "cell_type": "code",
   "execution_count": null,
   "metadata": {},
   "outputs": [],
   "source": []
  },
  {
   "cell_type": "code",
   "execution_count": null,
   "metadata": {},
   "outputs": [],
   "source": []
  },
  {
   "cell_type": "code",
   "execution_count": null,
   "metadata": {},
   "outputs": [],
   "source": []
  },
  {
   "cell_type": "code",
   "execution_count": null,
   "metadata": {},
   "outputs": [],
   "source": []
  },
  {
   "cell_type": "code",
   "execution_count": null,
   "metadata": {},
   "outputs": [],
   "source": []
  },
  {
   "cell_type": "code",
   "execution_count": null,
   "metadata": {},
   "outputs": [],
   "source": []
  },
  {
   "cell_type": "code",
   "execution_count": null,
   "metadata": {},
   "outputs": [],
   "source": []
  }
 ],
 "metadata": {
  "kernelspec": {
   "display_name": "rl-learn",
   "language": "python",
   "name": "rl-learn"
  },
  "language_info": {
   "codemirror_mode": {
    "name": "ipython",
    "version": 3
   },
   "file_extension": ".py",
   "mimetype": "text/x-python",
   "name": "python",
   "nbconvert_exporter": "python",
   "pygments_lexer": "ipython3",
   "version": "3.7.13"
  }
 },
 "nbformat": 4,
 "nbformat_minor": 5
}
