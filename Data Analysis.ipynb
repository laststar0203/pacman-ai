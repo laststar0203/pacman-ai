{
 "cells": [
  {
   "cell_type": "markdown",
   "metadata": {},
   "source": [
    "[메모]\n",
    "\n",
    "(210, 164, 74) 플레이어 <br>\n",
    "(187, 187, 53) 대기 플레이어 <br>\n",
    "(0, 28, 136) 도로 <br>\n",
    "(228, 111, 111) 벽 & 과자 <br>\n",
    "(198, 89, 179) 분홍 유령 <br>\n",
    "(180, 122, 48) 노랑 유령 <br>\n",
    "(200, 72, 27) 빨강 유령 <br>\n",
    "(84, 184, 153) 하늘 유령 <br>\n",
    "(184, 50, 50) 체리 <br>\n",
    "(195, 144, 61) 점수<br>\n",
    "\n",
    "게임 자체에서 유령들이 지맘대로 움직임"
   ]
  },
  {
   "cell_type": "code",
   "execution_count": 1,
   "metadata": {},
   "outputs": [
    {
     "name": "stderr",
     "output_type": "stream",
     "text": [
      "C:\\Users\\laststar\\anaconda3\\envs\\rl-learn\\lib\\site-packages\\gym\\envs\\atari\\environment.py:269: UserWarning: \u001b[33mWARN: We strongly suggest supplying `render_mode` when constructing your environment, e.g., gym.make(ID, render_mode='human'). Using `render_mode` provides access to proper scaling, audio support, and proper framerates.\u001b[0m\n",
      "  \"We strongly suggest supplying `render_mode` when \"\n",
      "C:\\Users\\laststar\\anaconda3\\envs\\rl-learn\\lib\\site-packages\\pyglet\\image\\codecs\\wic.py:434: UserWarning: [WinError -2147417850] 스레드 모드가 설정된 후에는 바꿀 수 없습니다\n",
      "  warnings.warn(str(err))\n"
     ]
    }
   ],
   "source": [
    "import gym\n",
    "\n",
    "env = gym.make('MsPacman-v0')\n",
    "state = env.reset()\n",
    "\n",
    "for _ in range(10000):\n",
    "    env.render()\n",
    "    observation, reward, done, info = env.step(env.action_space.sample())\n",
    "    \n",
    "    print('reward : ' , reward) \n",
    "    print('done : ' ,done)\n",
    "    print('info : ', info)\n",
    "    print(observation.shape, observation)"
   ]
  },
  {
   "cell_type": "code",
   "execution_count": 10,
   "metadata": {},
   "outputs": [
    {
     "name": "stdout",
     "output_type": "stream",
     "text": [
      "reward :  0.0\n",
      "done :  True\n",
      "info :  {'lives': 0, 'episode_frame_number': 1985, 'frame_number': 1985, 'TimeLimit.truncated': False}\n",
      "(210, 160, 3) [[[  0   0   0]\n",
      "  [  0   0   0]\n",
      "  [  0   0   0]\n",
      "  ...\n",
      "  [  0   0   0]\n",
      "  [  0   0   0]\n",
      "  [  0   0   0]]\n",
      "\n",
      " [[228 111 111]\n",
      "  [228 111 111]\n",
      "  [228 111 111]\n",
      "  ...\n",
      "  [228 111 111]\n",
      "  [228 111 111]\n",
      "  [228 111 111]]\n",
      "\n",
      " [[228 111 111]\n",
      "  [228 111 111]\n",
      "  [228 111 111]\n",
      "  ...\n",
      "  [228 111 111]\n",
      "  [228 111 111]\n",
      "  [228 111 111]]\n",
      "\n",
      " ...\n",
      "\n",
      " [[  0   0   0]\n",
      "  [  0   0   0]\n",
      "  [  0   0   0]\n",
      "  ...\n",
      "  [  0   0   0]\n",
      "  [  0   0   0]\n",
      "  [  0   0   0]]\n",
      "\n",
      " [[  0   0   0]\n",
      "  [  0   0   0]\n",
      "  [  0   0   0]\n",
      "  ...\n",
      "  [  0   0   0]\n",
      "  [  0   0   0]\n",
      "  [  0   0   0]]\n",
      "\n",
      " [[  0   0   0]\n",
      "  [  0   0   0]\n",
      "  [  0   0   0]\n",
      "  ...\n",
      "  [  0   0   0]\n",
      "  [  0   0   0]\n",
      "  [  0   0   0]]]\n"
     ]
    }
   ],
   "source": [
    "print('reward : ' , reward) \n",
    "print('done : ' ,done)\n",
    "print('info : ', info)\n",
    "print(observation.shape, observation)"
   ]
  },
  {
   "cell_type": "code",
   "execution_count": null,
   "metadata": {},
   "outputs": [],
   "source": []
  },
  {
   "cell_type": "code",
   "execution_count": null,
   "metadata": {},
   "outputs": [],
   "source": [
    "import gym\n",
    "import matplotlib.pyplot as plt\n",
    "import numpy as np\n",
    "import pandas as pd\n",
    "import seaborn as sns"
   ]
  },
  {
   "cell_type": "code",
   "execution_count": null,
   "metadata": {},
   "outputs": [],
   "source": [
    "def colored(r, g, b, text):\n",
    "    return '\\033[1m' + \"\\033[38;2;{};{};{}m{} \\033[38;2;255;255;255m\".format(r, g, b, text)"
   ]
  },
  {
   "cell_type": "code",
   "execution_count": null,
   "metadata": {},
   "outputs": [],
   "source": [
    "env = gym.make('MsPacman-v0')\n",
    "state = env.reset()"
   ]
  },
  {
   "cell_type": "code",
   "execution_count": null,
   "metadata": {},
   "outputs": [],
   "source": [
    "rgb_images = []\n",
    "rgb_arrays = []"
   ]
  },
  {
   "cell_type": "code",
   "execution_count": null,
   "metadata": {},
   "outputs": [],
   "source": [
    "for _ in range(1000):\n",
    "    image = env.render(mode='rgb_array')\n",
    "    observation, reward, done, info = env.step(env.action_space.sample())\n",
    "    rgb_images.append(image)\n",
    "    rgb_arrays.append(observation)"
   ]
  },
  {
   "cell_type": "code",
   "execution_count": null,
   "metadata": {},
   "outputs": [],
   "source": [
    "rgb_images"
   ]
  },
  {
   "cell_type": "code",
   "execution_count": null,
   "metadata": {},
   "outputs": [],
   "source": [
    "info"
   ]
  },
  {
   "cell_type": "code",
   "execution_count": null,
   "metadata": {},
   "outputs": [],
   "source": [
    "len(rgb_images)"
   ]
  },
  {
   "cell_type": "code",
   "execution_count": null,
   "metadata": {},
   "outputs": [],
   "source": [
    "rgb = rgb_images[0]"
   ]
  },
  {
   "cell_type": "code",
   "execution_count": null,
   "metadata": {},
   "outputs": [],
   "source": [
    "plt.imshow(rgb)"
   ]
  },
  {
   "cell_type": "code",
   "execution_count": null,
   "metadata": {},
   "outputs": [],
   "source": [
    "rgb.shape"
   ]
  },
  {
   "cell_type": "code",
   "execution_count": null,
   "metadata": {},
   "outputs": [],
   "source": [
    "color_unique = rgb.reshape((-1,3))"
   ]
  },
  {
   "cell_type": "code",
   "execution_count": null,
   "metadata": {
    "scrolled": true
   },
   "outputs": [],
   "source": [
    "for code in np.unique(color_unique, axis=0):\n",
    "    r = code[0]\n",
    "    g = code[1]\n",
    "    b = code[2]\n",
    "    \n",
    "    print(colored(r,g,b, f\"{(r,g,b)}  색상\"))"
   ]
  },
  {
   "cell_type": "code",
   "execution_count": null,
   "metadata": {},
   "outputs": [],
   "source": []
  },
  {
   "cell_type": "markdown",
   "metadata": {},
   "source": [
    "### Data Preprocess"
   ]
  },
  {
   "cell_type": "code",
   "execution_count": null,
   "metadata": {},
   "outputs": [],
   "source": [
    "df = pd.DataFrame(rgb.reshape(-1,3), columns=['R', 'G', 'B'])"
   ]
  },
  {
   "cell_type": "code",
   "execution_count": null,
   "metadata": {},
   "outputs": [],
   "source": [
    "df['x'] = df.apply(lambda row: (int(int(row.name % 160))), axis=1)\n",
    "df['y'] = df.apply(lambda row: (int(int(row.name) / 160)), axis=1)\n",
    "df['pos'] = df.apply(lambda row: (row['x'], row['y']), axis=1)\n",
    "df['RGB'] = df.apply(lambda row: (row['R'], row['G'], row['B']), axis=1)"
   ]
  },
  {
   "cell_type": "code",
   "execution_count": null,
   "metadata": {},
   "outputs": [],
   "source": [
    "# 전처리 time 행 열 R G B"
   ]
  },
  {
   "cell_type": "code",
   "execution_count": null,
   "metadata": {},
   "outputs": [],
   "source": [
    "df"
   ]
  },
  {
   "cell_type": "code",
   "execution_count": null,
   "metadata": {},
   "outputs": [],
   "source": [
    "plt.figure(figsize=(15,10))\n",
    "sns.countplot(x='RGB', data=df, color='black')"
   ]
  },
  {
   "cell_type": "markdown",
   "metadata": {},
   "source": [
    "### Black"
   ]
  },
  {
   "cell_type": "code",
   "execution_count": null,
   "metadata": {},
   "outputs": [],
   "source": [
    "black = df[df['RGB'] == (0,0,0)]"
   ]
  },
  {
   "cell_type": "code",
   "execution_count": null,
   "metadata": {},
   "outputs": [],
   "source": [
    "black['y'].unique()"
   ]
  },
  {
   "cell_type": "code",
   "execution_count": null,
   "metadata": {},
   "outputs": [],
   "source": [
    "black[(black.y > 0) & (black.y < 172)]['x'].unique()"
   ]
  },
  {
   "cell_type": "markdown",
   "metadata": {},
   "source": [
    "black은 y가 0, 172 이상인 경우 존재"
   ]
  },
  {
   "cell_type": "markdown",
   "metadata": {},
   "source": [
    "### Ghost "
   ]
  },
  {
   "cell_type": "markdown",
   "metadata": {},
   "source": [
    "#### Sky Blue Ghost"
   ]
  },
  {
   "cell_type": "code",
   "execution_count": null,
   "metadata": {},
   "outputs": [],
   "source": [
    "sky_blue_ghost = df[df['RGB'] == (84, 184, 153)]\n",
    "sky_blue_ghost.head()"
   ]
  },
  {
   "cell_type": "code",
   "execution_count": null,
   "metadata": {},
   "outputs": [],
   "source": [
    "print(f\"X => {sky_blue_ghost['x'].min()} ~ {sky_blue_ghost['x'].max()}\")\n",
    "print(f\"Y => {sky_blue_ghost['y'].min()} ~ {sky_blue_ghost['y'].max()}\")"
   ]
  },
  {
   "cell_type": "markdown",
   "metadata": {},
   "source": [
    "size 8 X 10"
   ]
  },
  {
   "cell_type": "markdown",
   "metadata": {},
   "source": [
    "#### PINK"
   ]
  },
  {
   "cell_type": "code",
   "execution_count": null,
   "metadata": {},
   "outputs": [],
   "source": [
    "pink_ghost = df[df['RGB'] == (198, 89, 179)]\n",
    "pink_ghost.head()"
   ]
  },
  {
   "cell_type": "code",
   "execution_count": null,
   "metadata": {},
   "outputs": [],
   "source": [
    "print(f\"X => {pink_ghost['x'].min()} ~ {pink_ghost['x'].max()}\")\n",
    "print(f\"Y => {pink_ghost['y'].min()} ~ {pink_ghost['y'].max()}\")"
   ]
  },
  {
   "cell_type": "markdown",
   "metadata": {},
   "source": [
    "size 8 X 10"
   ]
  },
  {
   "cell_type": "code",
   "execution_count": null,
   "metadata": {},
   "outputs": [],
   "source": []
  },
  {
   "cell_type": "code",
   "execution_count": null,
   "metadata": {},
   "outputs": [],
   "source": []
  },
  {
   "cell_type": "markdown",
   "metadata": {},
   "source": [
    "유령에 대해 정중앙 위치를 할 필요는 없을 것 같음 거리를 구하는 것도 아니기 때문에 위치는 하나의 상태 값\n",
    "으로만 사용할 것이기 때문이다."
   ]
  },
  {
   "cell_type": "code",
   "execution_count": null,
   "metadata": {},
   "outputs": [],
   "source": [
    "env = gym.make('MsPacman-v0')\n",
    "state = env.reset()\n",
    "\n",
    "count = 0;\n",
    "\n",
    "while True:\n",
    "    env.render()\n",
    "    observation, reward, done, info = env.step(env.action_space.sample())\n",
    "    print(count, info)\n",
    "    count += 1\n",
    "    import time\n",
    "    time.sleep(0.1)"
   ]
  },
  {
   "cell_type": "code",
   "execution_count": null,
   "metadata": {},
   "outputs": [],
   "source": []
  },
  {
   "cell_type": "markdown",
   "metadata": {},
   "source": [
    "유령의 위치뿐만 아니라 방향도??\n",
    "이유는 유령이 꼭 플레이어와 닿을 수 있는 방향으론 움직이지 않기 때문\n",
    "방향까진 무리고 위치만으로도 충분할 듯 한데\n",
    "\n",
    "아이템을 제외하고 컬러수를 매긴다.\n",
    "\n",
    "과자 포지션은 알고 있는게 좋음"
   ]
  },
  {
   "cell_type": "markdown",
   "metadata": {},
   "source": [
    "전처리를 하는 이유는 디버깅을 좀 쉽게 할려는 이유도 있음 왜냐면 배열 형태론 사람이 못 알아보니깐\n",
    "또 커스텀마이징도 가능함"
   ]
  },
  {
   "cell_type": "code",
   "execution_count": null,
   "metadata": {},
   "outputs": [],
   "source": []
  }
 ],
 "metadata": {
  "kernelspec": {
   "display_name": "rl-learn",
   "language": "python",
   "name": "rl-learn"
  },
  "language_info": {
   "codemirror_mode": {
    "name": "ipython",
    "version": 3
   },
   "file_extension": ".py",
   "mimetype": "text/x-python",
   "name": "python",
   "nbconvert_exporter": "python",
   "pygments_lexer": "ipython3",
   "version": "3.7.13"
  }
 },
 "nbformat": 4,
 "nbformat_minor": 4
}
