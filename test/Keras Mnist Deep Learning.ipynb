{
 "cells": [
  {
   "cell_type": "code",
   "execution_count": 84,
   "id": "cb28ce2a",
   "metadata": {},
   "outputs": [],
   "source": [
    "import keras\n",
    "from keras.datasets import mnist\n",
    "from keras.models import Sequential\n",
    "from keras.layers import Dense, Dropout, Flatten\n",
    "from keras.layers import Conv2D, MaxPooling2D\n",
    "from keras import backend as K\n",
    "\n",
    "import numpy as np\n",
    "import matplotlib.pyplot as plt"
   ]
  },
  {
   "cell_type": "code",
   "execution_count": 60,
   "id": "e66d7a05",
   "metadata": {},
   "outputs": [],
   "source": [
    "(x_train, y_train), (x_test, y_test) = mnist.load_data()"
   ]
  },
  {
   "cell_type": "code",
   "execution_count": 61,
   "id": "4c01a6c3",
   "metadata": {},
   "outputs": [
    {
     "data": {
      "text/plain": [
       "(60000, 28, 28)"
      ]
     },
     "execution_count": 61,
     "metadata": {},
     "output_type": "execute_result"
    }
   ],
   "source": [
    "x_train.shape"
   ]
  },
  {
   "cell_type": "code",
   "execution_count": 66,
   "id": "b3d536dc",
   "metadata": {},
   "outputs": [],
   "source": [
    "if K.image_data_format() == 'channel_first':\n",
    "    x_train = x_train.reshape(x_train.shape[0], 1, 28, 28)\n",
    "    x_test = x_test.reshape(x_test.shape[0], 1, 28, 28)\n",
    "    input_shape = (1, 28, 28)\n",
    "else:\n",
    "    x_train = x_train.reshape(x_train.shape[0], 28, 28, 1)\n",
    "    x_test = x_test.reshape(x_test.shape[0], 28, 28, 1)\n",
    "    input_shape = (28, 28, 1) "
   ]
  },
  {
   "cell_type": "code",
   "execution_count": 67,
   "id": "7c0cd7ae",
   "metadata": {},
   "outputs": [
    {
     "name": "stdout",
     "output_type": "stream",
     "text": [
      "훈련 데이터 x_train 크기 :  (60000, 28, 28, 1)\n",
      "훈련 데이터 y_train 크기 :  (60000,)\n",
      "훈련 데이터 x_test 크기 :  (10000, 28, 28, 1)\n",
      "훈련 데이터 y_test 크기 :  (10000,)\n",
      "x_train 5개의 이미지\n"
     ]
    },
    {
     "data": {
      "image/png": "[encoded data removed]",
      "text/plain": [
       "<Figure size 1080x720 with 5 Axes>"
      ]
     },
     "metadata": {
      "needs_background": "light"
     },
     "output_type": "display_data"
    }
   ],
   "source": [
    "print(f'훈련 데이터 x_train 크기 : ', x_train.shape)\n",
    "print(f'훈련 데이터 y_train 크기 : ', y_train.shape)\n",
    "print(f'훈련 데이터 x_test 크기 : ', x_test.shape)\n",
    "print(f'훈련 데이터 y_test 크기 : ', y_test.shape)\n",
    "print('x_train 5개의 이미지')\n",
    "\n",
    "plt.figure(figsize=(15,10))\n",
    "for i in range(5):\n",
    "    plt.subplot(1, 5, i+1)\n",
    "    plt.imshow(x_train[i].reshape(28, 28), cmap='gray')\n",
    "plt.show()"
   ]
  },
  {
   "cell_type": "code",
   "execution_count": 68,
   "id": "c5c28fbc",
   "metadata": {},
   "outputs": [
    {
     "data": {
      "text/plain": [
       "numpy.ndarray"
      ]
     },
     "execution_count": 68,
     "metadata": {},
     "output_type": "execute_result"
    }
   ],
   "source": [
    "type(x_train)"
   ]
  },
  {
   "cell_type": "code",
   "execution_count": 69,
   "id": "03881277",
   "metadata": {},
   "outputs": [],
   "source": [
    "x_train = x_train.astype('float32')\n",
    "x_test = x_test.astype('float32')\n",
    "\n",
    "x_train = x_train / 255\n",
    "x_test = x_test / 255"
   ]
  },
  {
   "cell_type": "code",
   "execution_count": 81,
   "id": "0ac1b34e",
   "metadata": {},
   "outputs": [],
   "source": [
    "# y 데이터 원-핫 인코딩\n",
    "\n",
    "num_classes = 10\n",
    "y_train = keras.utils.all_utils.to_categorical(y_train, num_classes)\n",
    "y_test = keras.utils.all_utils.to_categorical(y_test, num_classes)"
   ]
  },
  {
   "cell_type": "code",
   "execution_count": 98,
   "id": "d3a96920",
   "metadata": {},
   "outputs": [
    {
     "name": "stdout",
     "output_type": "stream",
     "text": [
      "Model: \"sequential_7\"\n",
      "_________________________________________________________________\n",
      " Layer (type)                Output Shape              Param #   \n",
      "=================================================================\n",
      " Conv2D_layer (Conv2D)       (None, 26, 26, 2)         20        \n",
      "                                                                 \n",
      " MaxPooling2D_layer (MaxPool  (None, 13, 13, 2)        0         \n",
      " ing2D)                                                          \n",
      "                                                                 \n",
      " Flatten_layer (Flatten)     (None, 338)               0         \n",
      "                                                                 \n",
      " Dense1_layer (Dense)        (None, 128)               43392     \n",
      "                                                                 \n",
      " Dense2_layer (Dense)        (None, 10)                1290      \n",
      "                                                                 \n",
      "=================================================================\n",
      "Total params: 44,702\n",
      "Trainable params: 44,702\n",
      "Non-trainable params: 0\n",
      "_________________________________________________________________\n",
      "None\n"
     ]
    }
   ],
   "source": [
    "np.random.seed(0)\n",
    "\n",
    "model = Sequential()\n",
    "\n",
    "# 합성곱층 추가\n",
    "model.add(Conv2D(2, kernel_size=(3,3), activation='relu', input_shape=input_shape, name='Conv2D_layer'))\n",
    "\n",
    "# 최대 폴링층 추가\n",
    "model.add(MaxPooling2D(pool_size=(2,2), name='MaxPooling2D_layer'))\n",
    "\n",
    "# 플래튼층 추가\n",
    "model.add(Flatten(name='Flatten_layer'))\n",
    "\n",
    "# 완전연결계층 추가\n",
    "model.add(Dense(128, activation='relu', name='Dense1_layer'))\n",
    "model.add(Dense(num_classes, activation='softmax', name='Dense2_layer'))\n",
    "\n",
    "# 학습 방법 추가\n",
    "model.compile(loss=keras.losses.categorical_crossentropy, optimizer=keras.optimizers.adadelta_v2.Adadelta(), metrics=['accracy'])\n",
    "\n",
    "print(model.summary())"
   ]
  },
  {
   "cell_type": "code",
   "execution_count": 97,
   "id": "77a9e494",
   "metadata": {},
   "outputs": [
    {
     "data": {
      "text/plain": [
       "['Adadelta',\n",
       " '__builtins__',\n",
       " '__cached__',\n",
       " '__doc__',\n",
       " '__file__',\n",
       " '__loader__',\n",
       " '__name__',\n",
       " '__package__',\n",
       " '__spec__',\n",
       " 'backend_config',\n",
       " 'keras_export',\n",
       " 'np',\n",
       " 'optimizer_v2',\n",
       " 'tf']"
      ]
     },
     "execution_count": 97,
     "metadata": {},
     "output_type": "execute_result"
    }
   ],
   "source": [
    "dir(keras.optimizers.adadelta_v2.Adadelta())"
   ]
  },
  {
   "cell_type": "code",
   "execution_count": null,
   "id": "76537c28",
   "metadata": {},
   "outputs": [],
   "source": []
  }
 ],
 "metadata": {
  "kernelspec": {
   "display_name": "rl-learn",
   "language": "python",
   "name": "rl-learn"
  },
  "language_info": {
   "codemirror_mode": {
    "name": "ipython",
    "version": 3
   },
   "file_extension": ".py",
   "mimetype": "text/x-python",
   "name": "python",
   "nbconvert_exporter": "python",
   "pygments_lexer": "ipython3",
   "version": "3.7.13"
  }
 },
 "nbformat": 4,
 "nbformat_minor": 5
}
